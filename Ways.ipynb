{
 "cells": [
  {
   "cell_type": "code",
   "execution_count": 33,
   "metadata": {},
   "outputs": [
    {
     "name": "stdout",
     "output_type": "stream",
     "text": [
      "2728\n"
     ]
    }
   ],
   "source": [
    "import random\n",
    "def Ways(amount, denominations):\n",
    "    if amount == 0:\n",
    "        return 1\n",
    "    if amount < 0:\n",
    "        return 0\n",
    "    if len(denominations) == 0:\n",
    "        return 0\n",
    "    d = random.sample(denominations, 1)[0]\n",
    "    return Ways(amount - d, denominations) + Ways(amount, denominations.difference([d]))\n",
    "def test():\n",
    "    print(Ways(400, set([5,10,20,50,100,200])))\n",
    "    \n",
    "if __name__ == \"__main__\":\n",
    "    test()\n",
    "    "
   ]
  },
  {
   "cell_type": "code",
   "execution_count": 32,
   "metadata": {},
   "outputs": [],
   "source": [
    "\"\"\"Application of Set\"\"\"\n",
    "A = set([5,4,3,2,1])\n",
    "a = random.sample(A, 1)[0]\n",
    "\n",
    "b = A.difference([a])"
   ]
  },
  {
   "cell_type": "code",
   "execution_count": null,
   "metadata": {},
   "outputs": [],
   "source": []
  }
 ],
 "metadata": {
  "kernelspec": {
   "display_name": "Python 3",
   "language": "python",
   "name": "python3"
  },
  "language_info": {
   "codemirror_mode": {
    "name": "ipython",
    "version": 3
   },
   "file_extension": ".py",
   "mimetype": "text/x-python",
   "name": "python",
   "nbconvert_exporter": "python",
   "pygments_lexer": "ipython3",
   "version": "3.8.1"
  }
 },
 "nbformat": 4,
 "nbformat_minor": 4
}
