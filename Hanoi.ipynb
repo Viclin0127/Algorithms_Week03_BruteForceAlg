{
 "cells": [
  {
   "cell_type": "code",
   "execution_count": 5,
   "metadata": {},
   "outputs": [
    {
     "name": "stdout",
     "output_type": "stream",
     "text": [
      "[2]\n",
      "[]\n",
      "[1]\n",
      "----------------\n",
      "[]\n",
      "[1]\n",
      "[2]\n",
      "----------------\n",
      "[]\n",
      "[]\n",
      "[2, 1]\n",
      "----------------\n"
     ]
    }
   ],
   "source": [
    "def Hanoi(n, init, aux, fin):\n",
    "    if n > 0 :\n",
    "        Hanoi(n-1, init, fin, aux)\n",
    "        fin.append(init.pop())\n",
    "        print(init)\n",
    "        print(aux)\n",
    "        print(fin)\n",
    "        print(\"----------------\")\n",
    "        Hanoi(n-1, aux, init, fin)\n",
    "def test():\n",
    "    init = [2,1]\n",
    "    aux = []\n",
    "    fin = []\n",
    "    Hanoi(len(init), init, aux, fin)\n",
    "    \n",
    "if __name__ == \"__main__\":\n",
    "    test()"
   ]
  },
  {
   "cell_type": "code",
   "execution_count": null,
   "metadata": {},
   "outputs": [],
   "source": []
  }
 ],
 "metadata": {
  "kernelspec": {
   "display_name": "Python 3",
   "language": "python",
   "name": "python3"
  },
  "language_info": {
   "codemirror_mode": {
    "name": "ipython",
    "version": 3
   },
   "file_extension": ".py",
   "mimetype": "text/x-python",
   "name": "python",
   "nbconvert_exporter": "python",
   "pygments_lexer": "ipython3",
   "version": "3.8.1"
  }
 },
 "nbformat": 4,
 "nbformat_minor": 4
}
