{
 "cells": [
  {
   "cell_type": "code",
   "execution_count": 18,
   "metadata": {},
   "outputs": [
    {
     "name": "stdout",
     "output_type": "stream",
     "text": [
      "(0, 5)\n"
     ]
    }
   ],
   "source": [
    "def ClosetPair(Nodes):\n",
    "    min = float(\"inf\")\n",
    "    n = len(Nodes)\n",
    "    for i in range(0, n-1):\n",
    "        xi, yi = Nodes[i]\n",
    "        for j in range(i+1 , n):\n",
    "            xj, yj = Nodes[j]\n",
    "            d = ((xi - xj) ** 2 + (yi - yj) ** 2) ** 0.5\n",
    "            if d < min:\n",
    "                min = d\n",
    "                pi = i\n",
    "                pj = j\n",
    "    return pi, pj\n",
    "def test():\n",
    "    Nodes = [(1,2), (4,4), (6,1), (9,4), (1, 7), (0,0)]\n",
    "    print(ClosetPair(Nodes))\n",
    "if __name__ == \"__main__\":\n",
    "    test()"
   ]
  },
  {
   "cell_type": "code",
   "execution_count": null,
   "metadata": {},
   "outputs": [],
   "source": []
  }
 ],
 "metadata": {
  "kernelspec": {
   "display_name": "Python 3",
   "language": "python",
   "name": "python3"
  },
  "language_info": {
   "codemirror_mode": {
    "name": "ipython",
    "version": 3
   },
   "file_extension": ".py",
   "mimetype": "text/x-python",
   "name": "python",
   "nbconvert_exporter": "python",
   "pygments_lexer": "ipython3",
   "version": "3.8.1"
  }
 },
 "nbformat": 4,
 "nbformat_minor": 4
}
