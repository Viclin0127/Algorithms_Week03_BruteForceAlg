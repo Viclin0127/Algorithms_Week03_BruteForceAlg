{
 "cells": [
  {
   "cell_type": "code",
   "execution_count": 8,
   "metadata": {},
   "outputs": [
    {
     "name": "stdout",
     "output_type": "stream",
     "text": [
      "3\n",
      "5\n",
      "8\n"
     ]
    }
   ],
   "source": [
    "def Fib(n):\n",
    "    if n == 0:\n",
    "        return 1\n",
    "    if n == 1:\n",
    "        return 1\n",
    "    return Fib(n-1) + Fib(n-2)\n",
    "\n",
    "\"\"\"initial call Fib2(n, 1, 0)\"\"\"\n",
    "def Fib2(n, a=1, b=0):\n",
    "    if n == 0:\n",
    "        return a\n",
    "    return Fib2(n-1, a+b, a)\n",
    "\n",
    "def Fib3(n):\n",
    "    a = 1\n",
    "    b = 0\n",
    "    while n >0:\n",
    "        a = a + b\n",
    "        b = a - b  \n",
    "        \"\"\"a has become to  a + b, in order to let b = initial a , b = (a+b) - b\"\"\"\n",
    "        n = n-1\n",
    "    return a\n",
    "\n",
    "def test():\n",
    "    print(Fib(3))\n",
    "    print(Fib2(4))\n",
    "    print(Fib3(5))\n",
    "\n",
    "if __name__ == \"__main__\":\n",
    "    test()"
   ]
  },
  {
   "cell_type": "code",
   "execution_count": null,
   "metadata": {},
   "outputs": [],
   "source": []
  }
 ],
 "metadata": {
  "kernelspec": {
   "display_name": "Python 3",
   "language": "python",
   "name": "python3"
  },
  "language_info": {
   "codemirror_mode": {
    "name": "ipython",
    "version": 3
   },
   "file_extension": ".py",
   "mimetype": "text/x-python",
   "name": "python",
   "nbconvert_exporter": "python",
   "pygments_lexer": "ipython3",
   "version": "3.8.1"
  }
 },
 "nbformat": 4,
 "nbformat_minor": 4
}
